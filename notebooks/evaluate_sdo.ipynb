{
 "cells": [
  {
   "cell_type": "markdown",
   "metadata": {},
   "source": [
    "# Evaluate SDOs extraction accuracy"
   ]
  },
  {
   "cell_type": "code",
   "execution_count": null,
   "metadata": {},
   "outputs": [],
   "source": [
    "import json\n",
    "from rapidfuzz import fuzz\n",
    "from collections import defaultdict"
   ]
  },
  {
   "cell_type": "code",
   "execution_count": null,
   "metadata": {},
   "outputs": [],
   "source": [
    "def load_stix_bundle(file_path):\n",
    "    with open(file_path, \"r\", encoding=\"utf-8\") as f:\n",
    "        return json.load(f)\n",
    "    \n",
    "output_bundle = load_stix_bundle(\"../bundles/APT1_merged.json\")\n",
    "ground_truth_bundle = load_stix_bundle(\"../bundles/APT1_ground-truth.json\")"
   ]
  },
  {
   "cell_type": "code",
   "execution_count": null,
   "metadata": {},
   "outputs": [],
   "source": [
    "SDO_TYPES = {\n",
    "    \"attack-pattern\", \"campaign\", \"course-of-action\", \"identity\", \"indicator\",\n",
    "    \"intrusion-set\", \"malware\", \"observed-data\", \"report\", \"threat-actor\", \"vulnerability\", \n",
    "    \"infrastructure\", \"sighting\", \"note\", \"opinion\", \"grouping\", \n",
    "    \"incident\", \"location\", \"malware-analysis\", \"tool\"\n",
    "}\n",
    "\n",
    "def extract_objects(stix_bundle):\n",
    "    \"\"\"Extracts all STIX Domain Objects (SDOs) from a STIX bundle.\"\"\"\n",
    "    objects = stix_bundle.get(\"objects\", [])\n",
    "    sdo_objects = [obj for obj in objects if obj.get(\"type\") in SDO_TYPES]\n",
    "    return sdo_objects\n",
    "\n",
    "\n",
    "output_sdos = extract_objects(output_bundle)\n",
    "ground_truth = extract_objects(ground_truth_bundle)"
   ]
  },
  {
   "cell_type": "code",
   "execution_count": null,
   "metadata": {},
   "outputs": [],
   "source": [
    "def calculate_sdo_score(output_bundle, ground_truth):\n",
    "    total = 0\n",
    "    count = 0\n",
    "    for sdo in output_bundle:\n",
    "        for gt in ground_truth:\n",
    "            name_similarity = fuzz.ratio(sdo.get(\"name\", \"\"), gt.get(\"name\", \"\"))\n",
    "            if  name_similarity > 80:\n",
    "                type_similarity = fuzz.ratio(sdo.get(\"type\", \"\"), gt.get(\"type\", \"\"))\n",
    "                desc_similarity = fuzz.ratio(sdo.get(\"description\", \"\"), gt.get(\"description\", \"\"))\n",
    "                score = (name_similarity + type_similarity + desc_similarity) / 3\n",
    "\n",
    "                print(f\"\\n> {sdo.get(\"name\", \"\")}\")\n",
    "\n",
    "                print(\"\\nName\")\n",
    "                print(f\"Similarity: {name_similarity:.2f}\")\n",
    "                print(f\"GT Name: {gt.get(\"name\", \"\")}\")\n",
    "\n",
    "                print(\"\\nType\")\n",
    "                print(f\"Similarity: {type_similarity:.2f}\")\n",
    "                print(f\"Model Type: {sdo.get(\"type\", \"\")}\")\n",
    "                print(f\"GT Type: {gt.get(\"type\", \"\")}\")\n",
    "\n",
    "                print(\"\\nDescription\")\n",
    "                print(f\"Similarity: {desc_similarity:.2f}\")\n",
    "                print(f\"Model Description:\\n{sdo.get(\"description\", \"\")}\")\n",
    "                print(f\"GT Description:\\n{gt.get(\"description\", \"\")}\")\n",
    "\n",
    "                print(f\"\\nTotal Score: {score:.2f}\")\n",
    "            \n",
    "                total += score\n",
    "                count += 1\n",
    "\n",
    "                break\n",
    "\n",
    "    normalized_score = (total / len(output_bundle)) / 100\n",
    "\n",
    "    print(f\"\\nNormalized Score: {normalized_score:.2f}\")\n",
    "    \n",
    "    return normalized_score\n",
    "\n",
    "sdo_score = calculate_sdo_score(output_sdos, ground_truth)"
   ]
  }
 ],
 "metadata": {
  "kernelspec": {
   "display_name": "base",
   "language": "python",
   "name": "python3"
  },
  "language_info": {
   "codemirror_mode": {
    "name": "ipython",
    "version": 3
   },
   "file_extension": ".py",
   "mimetype": "text/x-python",
   "name": "python",
   "nbconvert_exporter": "python",
   "pygments_lexer": "ipython3",
   "version": "3.12.3"
  }
 },
 "nbformat": 4,
 "nbformat_minor": 2
}
