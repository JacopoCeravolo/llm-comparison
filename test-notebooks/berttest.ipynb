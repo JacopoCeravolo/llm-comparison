{
 "cells": [
  {
   "cell_type": "code",
   "execution_count": null,
   "metadata": {},
   "outputs": [
    {
     "name": "stderr",
     "output_type": "stream",
     "text": [
      "/opt/miniconda3/lib/python3.12/site-packages/tqdm/auto.py:21: TqdmWarning: IProgress not found. Please update jupyter and ipywidgets. See https://ipywidgets.readthedocs.io/en/stable/user_install.html\n",
      "  from .autonotebook import tqdm as notebook_tqdm\n"
     ]
    }
   ],
   "source": [
    "#!pip install transformers\n",
    "#!pip install torch\n",
    "#!pip install tokenizers\n",
    "\n",
    "import torch\n",
    "import transformers\n",
    "from transformers import RobertaTokenizer, RobertaTokenizerFast\n",
    "\n",
    "tokenizer = RobertaTokenizerFast.from_pretrained(\"ehsanaghaei/SecureBERT\")\n",
    "model = transformers.RobertaForMaskedLM.from_pretrained(\"ehsanaghaei/SecureBERT\")\n",
    "\n",
    "def predict_mask(sent, tokenizer, model, topk =10, print_results = True):\n",
    "    token_ids = tokenizer.encode(sent, return_tensors='pt')\n",
    "    masked_position = (token_ids.squeeze() == tokenizer.mask_token_id).nonzero()\n",
    "    masked_pos = [mask.item() for mask in masked_position]\n",
    "    words = []\n",
    "    with torch.no_grad():\n",
    "        output = model(token_ids)\n",
    "\n",
    "    last_hidden_state = output[0].squeeze()\n",
    "\n",
    "    list_of_list = []\n",
    "    for index, mask_index in enumerate(masked_pos):\n",
    "        mask_hidden_state = last_hidden_state[mask_index]\n",
    "        idx = torch.topk(mask_hidden_state, k=topk, dim=0)[1]\n",
    "        words = [tokenizer.decode(i.item()).strip() for i in idx]\n",
    "        words = [w.replace(' ','') for w in words]\n",
    "        list_of_list.append(words)\n",
    "        if print_results:\n",
    "            print(\"Mask \", \"Predictions : \", words)\n",
    "\n",
    "    best_guess = \"\"\n",
    "    for j in list_of_list:\n",
    "        best_guess = best_guess + \",\" + j[0]\n",
    "\n",
    "    return words\n",
    "\n",
    "\n",
    "while True:\n",
    "    sent = input(\"Text here: \\t\")\n",
    "    print(\"SecureBERT: \")\n",
    "    predict_mask(sent, tokenizer, model)\n",
    "     \n",
    "    print(\"===========================\\n\")"
   ]
  }
 ],
 "metadata": {
  "kernelspec": {
   "display_name": "base",
   "language": "python",
   "name": "python3"
  },
  "language_info": {
   "codemirror_mode": {
    "name": "ipython",
    "version": 3
   },
   "file_extension": ".py",
   "mimetype": "text/x-python",
   "name": "python",
   "nbconvert_exporter": "python",
   "pygments_lexer": "ipython3",
   "version": "3.12.3"
  }
 },
 "nbformat": 4,
 "nbformat_minor": 2
}
