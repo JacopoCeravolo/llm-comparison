{
 "cells": [
  {
   "cell_type": "code",
   "execution_count": null,
   "metadata": {},
   "outputs": [],
   "source": [
    "import openai \n",
    "client = openai.OpenAI(api_key='')"
   ]
  },
  {
   "cell_type": "code",
   "execution_count": null,
   "metadata": {},
   "outputs": [],
   "source": [
    "text = r\"\"\"APT19 is a Chinese-based threat group that has targeted a variety of industries, including defense, finance, energy, pharmaceutical, telecommunications, high tech, education, manufacturing, and legal services. In 2017, a phishing campaign was used to target seven law and investment firms. Some analysts track APT19 and Deep Panda as the same group, but it is unclear from open source information if the groups are the same. APT19 used HTTP for C2 communications. APT19 also used an HTTP malware variant to communicate over HTTP for C2. An APT19 HTTP malware variant establishes persistence by setting the Registry key HKCU\\Software\\Microsoft\\Windows\\CurrentVersion\\Run\\Windows Debug Tools-%LOCALAPPDATA%\\. APT19 downloaded and launched code within a SCT file. APT19 used PowerShell commands to execute payloads. An APT19 Port 22 malware variant registers itself as a service. An APT19 HTTP malware variant used Base64 to encode communications to the C2 server. An APT19 HTTP malware variant decrypts strings using single-byte XOR keys. APT19 performed a watering hole attack on forbes.com in 2014 to compromise targets. APT19 used -W Hidden to conceal PowerShell windows by setting the WindowStyle parameter to hidden. APT19 launched an HTTP malware variant and a Port 22 malware variant using a legitimate executable that loaded the malicious DLL. APT19 uses a Port 22 malware variant to modify several Registry keys. APT19 used Base64 to obfuscate commands and the payload. APT19 has obtained and used publicly-available tools like Empire. APT19 sent spearphishing emails with malicious attachments in RTF and XLSM formats to deliver initial exploits. APT19 used Regsvr32 to bypass application control techniques. APT19 configured its payload to inject into the rundll32.exe. APT19 collected system architecture information. APT19 used an HTTP malware variant and a Port 22 malware variant to gather the hostname and CPU information from the victim’s machine. APT19 used an HTTP malware variant and a Port 22 malware variant to collect the MAC address and IP address from the victim’s machine. APT19 used an HTTP malware variant and a Port 22 malware variant to collect the victim’s username. APT19 attempted to get users to launch malicious attachments delivered via spearphishing emails.\"\"\"\n",
    "user_prompt = f\"Text: {text}\"\n",
    "# Domain extraction prompt\n",
    "system_prompt = (\n",
    "    \"You are tasked with creating STIX 2.1 Domain Objects from the provided threat intelligence text.\"\n",
    "    \"Possible SDOs include: Attack Pattern, Campaign, Course of Action, Identity, Indicator, Intrusion Set, Malware, Observed Data, Report, Threat Actor, Tool, Vulnerability, Infrastructure, Relationship, Sighting, Note, Opinion, Grouping, Incident, Location, Malware Analysis.\"\n",
    "    \"Create relevant SDOs in JSON format, strictly adhering to the STIX 2.1 specification.\"\n",
    "    \"Ensure the output is a valid JSON array ([...]) containing only SDOs identified with high confidence.\"\n",
    "    \"The is_family field indicates whether the malware is a family (if true) or an instance (if false). The values true or false are always enclosed in quotes.\"\n",
    "    \"For id property write just SDO_type-- following this example: \\\"id\\\": \\\"malware--\\\"\"\n",
    "    \"Timestamp must be in ISO 8601 format.\"\n",
    "    \"Don't use created_by_ref and source_ref\"\n",
    "    \"The labels property in malware is used to categorize or tag the malware object with descriptive terms (e.g., \\\"trojan\\\", \\\"backdoor\\\", \\\"ransomware\\\"), Must contain at least one string.\"\n",
    "    \"threat-actor labels property should be an array of strings representing categories or descriptive terms for the threat actor.\"\n",
    "    \"Return only the JSON array, without any additional text, commentary, or code block delimiters (e.g., json).\"\n",
    ")\n"
   ]
  },
  {
   "cell_type": "code",
   "execution_count": 5,
   "metadata": {},
   "outputs": [],
   "source": [
    "messages = [\n",
    "    {\"role\": \"system\", \"content\": system_prompt},\n",
    "    {\"role\": \"user\", \"content\": user_prompt}\n",
    "]\n",
    "temperature = 0.7"
   ]
  },
  {
   "cell_type": "code",
   "execution_count": 12,
   "metadata": {},
   "outputs": [],
   "source": [
    "def extract_stix(messages, model=\"gpt-4\"):\n",
    "    response = client.chat.completions.create(\n",
    "        model=model,\n",
    "        messages=messages\n",
    "    )\n",
    "    return response.choices[0].message.content"
   ]
  },
  {
   "cell_type": "code",
   "execution_count": 13,
   "metadata": {},
   "outputs": [
    {
     "name": "stdout",
     "output_type": "stream",
     "text": [
      "[\n",
      "  {\n",
      "    \"type\": \"threat-actor\",\n",
      "    \"id\": \"threat-actor--\",\n",
      "    \"name\": \"APT19\",\n",
      "    \"aliases\": [\"Deep Panda\"],\n",
      "    \"roles\": [\"espionage\"],\n",
      "    \"description\": \"APT19 is a Chinese-based threat group that has targeted a variety of industries, including defense, finance, energy, pharmaceutical, telecommunications, high tech, education, manufacturing, and legal services. Some analysts track APT19 and Deep Panda as the same group, but it is unclear from open source information if the groups are the same.\",\n",
      "    \"first_seen\": \"2014-01-01T00:00:00Z\", \n",
      "    \"last_seen\": \"2017-12-31T23:59:59Z\",\n",
      "    \"goals\": [\"espionage\", \"data collection\", \"machine compromise\", \"Establishing C2 Communications\"],\n",
      "    \"sophistication\": \"advanced\",\n",
      "    \"resource_level\": \"high\",\n",
      "    \"primary_motivation\": \"espionage\",\n",
      "    \"secondary_motivations\": [\"monetary gain\"],\n",
      "    \"labels\": [\"APT\", \"espionage\"]\n",
      "  },\n",
      "  {\n",
      "    \"type\": \"campaign\",\n",
      "    \"id\": \"campaign--\",\n",
      "    \"name\": \"APT19 2017 Phishing Campaign\",\n",
      "    \"description\": \"In 2017, a phishing campaign was used to target seven law and investment firms by APT19.\",\n",
      "    \"aliases\": [],\n",
      "    \"first_seen\": \"2017-01-01T00:00:00Z\",\n",
      "    \"last_seen\": \"2017-12-31T23:59:59Z\"\n",
      "  },\n",
      "  {\n",
      "    \"type\": \"malware\",\n",
      "    \"id\": \"malware--\",\n",
      "    \"name\": \"HTTP malware variant\",\n",
      "    \"description\": \"An APT19 HTTP malware variant to communicate over HTTP for C2.\",\n",
      "    \"is_family\": \"false\",\n",
      "    \"kill_chain_phases\": [\n",
      "      {\n",
      "        \"phase_name\": \"installation\",\n",
      "        \"kill_chain_name\": \"mitre-attack\"\n",
      "      }\n",
      "    ],\n",
      "    \"labels\": [\"C2\"]\n",
      "  },\n",
      "  {\n",
      "    \"type\": \"attack-pattern\",\n",
      "    \"id\": \"attack-pattern--\",\n",
      "    \"name\": \"XOR Encryption\",\n",
      "    \"description\": \"An APT19 HTTP malware variant decrypts strings using single-byte XOR keys.\"\n",
      "  },\n",
      "  {\n",
      "    \"type\": \"malware\",\n",
      "    \"id\": \"malware--\",\n",
      "    \"name\": \"Port 22 malware variant\",\n",
      "    \"description\": \"An APT19 Port 22 malware variant registers itself as a service.\",\n",
      "    \"is_family\": \"false\"  \n",
      "  },\n",
      "  {\n",
      "    \"type\": \"tool\",\n",
      "    \"id\": \"tool--\",\n",
      "    \"name\": \"Empire\",\n",
      "    \"description\": \"APT19 has obtained and used publicly-available tools like Empire.\"\n",
      "  }\n",
      "]\n"
     ]
    }
   ],
   "source": [
    "print(extract_stix(messages))"
   ]
  }
 ],
 "metadata": {
  "kernelspec": {
   "display_name": "base",
   "language": "python",
   "name": "python3"
  },
  "language_info": {
   "codemirror_mode": {
    "name": "ipython",
    "version": 3
   },
   "file_extension": ".py",
   "mimetype": "text/x-python",
   "name": "python",
   "nbconvert_exporter": "python",
   "pygments_lexer": "ipython3",
   "version": "3.12.3"
  }
 },
 "nbformat": 4,
 "nbformat_minor": 2
}
